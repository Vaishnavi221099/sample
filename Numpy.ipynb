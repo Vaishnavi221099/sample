{
  "nbformat": 4,
  "nbformat_minor": 0,
  "metadata": {
    "colab": {
      "name": "Numpy.ipynb",
      "provenance": [],
      "collapsed_sections": []
    },
    "kernelspec": {
      "name": "python3",
      "display_name": "Python 3"
    },
    "language_info": {
      "name": "python"
    }
  },
  "cells": [
    {
      "cell_type": "code",
      "source": [
        "# Check Version\n",
        "import numpy as np\n",
        "print(np.__version__)"
      ],
      "metadata": {
        "colab": {
          "base_uri": "https://localhost:8080/"
        },
        "id": "KWW_m2A2EZGy",
        "outputId": "84addf83-2404-4c21-c0af-cce3f1ce7ba2"
      },
      "execution_count": null,
      "outputs": [
        {
          "output_type": "stream",
          "name": "stdout",
          "text": [
            "1.19.5\n"
          ]
        }
      ]
    },
    {
      "cell_type": "code",
      "source": [
        "import numpy as n\n",
        "a = n.array([1,2,3,4,5,6])\n",
        "print(a)"
      ],
      "metadata": {
        "colab": {
          "base_uri": "https://localhost:8080/"
        },
        "id": "Te1GbZWDDvXZ",
        "outputId": "67c6a82d-e013-4556-b97b-905487941083"
      },
      "execution_count": null,
      "outputs": [
        {
          "output_type": "stream",
          "name": "stdout",
          "text": [
            "[1 2 3 4 5 6]\n"
          ]
        }
      ]
    },
    {
      "cell_type": "code",
      "source": [
        "# Check Type\n",
        "print(type(a))"
      ],
      "metadata": {
        "colab": {
          "base_uri": "https://localhost:8080/"
        },
        "id": "lrN6BI6eDDSa",
        "outputId": "5ec2d337-c1ed-49a9-ad81-bec18fcce829"
      },
      "execution_count": null,
      "outputs": [
        {
          "output_type": "stream",
          "name": "stdout",
          "text": [
            "<class 'numpy.ndarray'>\n"
          ]
        }
      ]
    },
    {
      "cell_type": "code",
      "source": [
        "# Check Shape\n",
        "print(a.shape)"
      ],
      "metadata": {
        "colab": {
          "base_uri": "https://localhost:8080/"
        },
        "id": "WoZlnGNzDV4x",
        "outputId": "ae3c1018-7158-4f24-9ac2-45e81f51592a"
      },
      "execution_count": null,
      "outputs": [
        {
          "output_type": "stream",
          "name": "stdout",
          "text": [
            "(6,)\n"
          ]
        }
      ]
    },
    {
      "cell_type": "code",
      "source": [
        "# Creat array using List & Tuple\n",
        "import numpy as np\n",
        "a = np.array([1,2,2,3,3,5])\n",
        "print(a)\n",
        "print(type(a))\n",
        "\n",
        "b = np.array((1,2,2,3,3,5))\n",
        "print(b)\n",
        "print(type(b))"
      ],
      "metadata": {
        "colab": {
          "base_uri": "https://localhost:8080/"
        },
        "id": "KKJBQNKcE2H0",
        "outputId": "01876e60-92c4-43cc-ad08-3930096a55ed"
      },
      "execution_count": null,
      "outputs": [
        {
          "output_type": "stream",
          "name": "stdout",
          "text": [
            "[1 2 2 3 3 5]\n",
            "<class 'numpy.ndarray'>\n",
            "[1 2 2 3 3 5]\n",
            "<class 'numpy.ndarray'>\n"
          ]
        }
      ]
    },
    {
      "cell_type": "code",
      "source": [
        "# Creat array using List & Tuple\n",
        "l1 =  [11,12,13,14,15]\n",
        "a1 = np.array(l1)\n",
        "print(a1)\n",
        "print(type(l1))\n",
        "print(type(a1))\n",
        "\n",
        "t1 =  (11,12,13,14,15)\n",
        "a11 = np.array(t1)\n",
        "print(a11)\n",
        "print(type(t1))\n",
        "print(type(a11))"
      ],
      "metadata": {
        "id": "VZHE0_LaF6GR"
      },
      "execution_count": null,
      "outputs": []
    },
    {
      "cell_type": "code",
      "source": [
        "# O dimesnion Array\n",
        "import numpy as np\n",
        "arr = np.array(40)\n",
        "print(arr)\n",
        "print(arr.shape) "
      ],
      "metadata": {
        "id": "y8ieResGESJY",
        "colab": {
          "base_uri": "https://localhost:8080/"
        },
        "outputId": "eeb3740f-b998-499c-f548-292e0c4634db"
      },
      "execution_count": null,
      "outputs": [
        {
          "output_type": "stream",
          "name": "stdout",
          "text": [
            "40\n",
            "()\n"
          ]
        }
      ]
    },
    {
      "cell_type": "code",
      "source": [
        "# 1 dimesnional Array\n",
        "import numpy as np\n",
        "arr = np.array([1, 2, 3, 4, 5])\n",
        "print(arr)\n",
        "print(arr.shape) "
      ],
      "metadata": {
        "colab": {
          "base_uri": "https://localhost:8080/"
        },
        "id": "Ft1s1S9rGebM",
        "outputId": "e44058b6-d8a5-4d34-cce5-844e7ff4c1ae"
      },
      "execution_count": null,
      "outputs": [
        {
          "output_type": "stream",
          "name": "stdout",
          "text": [
            "[1 2 3 4 5]\n",
            "(5,)\n"
          ]
        }
      ]
    },
    {
      "cell_type": "code",
      "source": [
        "# 2 dimesnional Array\n",
        "import numpy as np\n",
        "arr = np.array([[1, 2, 3], [4, 5, 6]])\n",
        "print(arr) \n",
        "print(arr.shape)"
      ],
      "metadata": {
        "colab": {
          "base_uri": "https://localhost:8080/"
        },
        "id": "l_QAFCoiGvQp",
        "outputId": "672541b0-71a0-4d12-96fe-f25b2473981e"
      },
      "execution_count": null,
      "outputs": [
        {
          "output_type": "stream",
          "name": "stdout",
          "text": [
            "[[1 2 3]\n",
            " [4 5 6]]\n",
            "(2, 3)\n"
          ]
        }
      ]
    },
    {
      "cell_type": "code",
      "source": [
        "# 3 dimesnional Array\n",
        "import numpy as np\n",
        "#arr = np.array([[[1, 2, 3], [4, 5, 6]], [[1, 2, 3], [4, 5, 6]]])\n",
        "arr = np.array([[1, 2, 3], [4, 5, 6], [1, 2, 3]])\n",
        "print(arr) \n",
        "print(arr.shape)"
      ],
      "metadata": {
        "colab": {
          "base_uri": "https://localhost:8080/"
        },
        "id": "jg8BPDyhHPz9",
        "outputId": "2645b326-5d57-4a1f-9c42-a607f1114f3b"
      },
      "execution_count": null,
      "outputs": [
        {
          "output_type": "stream",
          "name": "stdout",
          "text": [
            "[[1 2 3]\n",
            " [4 5 6]\n",
            " [1 2 3]]\n",
            "(3, 3)\n"
          ]
        }
      ]
    },
    {
      "cell_type": "code",
      "source": [
        "# Checking the Dimensions of the arrays\n",
        "import numpy as np\n",
        "\n",
        "a = np.array(40)\n",
        "b = np.array([1, 2, 3, 4, 5])\n",
        "c = np.array([[1, 2, 3], [4, 5, 6]])\n",
        "d = np.array([[[1, 2, 3], [4, 5, 6]], [[1, 2, 3], [4, 5, 6]]])\n",
        "\n",
        "print(a.ndim)\n",
        "print(b.ndim)\n",
        "print(c.ndim)\n",
        "print(d.ndim) "
      ],
      "metadata": {
        "colab": {
          "base_uri": "https://localhost:8080/"
        },
        "id": "XPQiZLmDHr44",
        "outputId": "81feafe9-b053-48f5-998a-fd232f0722c9"
      },
      "execution_count": null,
      "outputs": [
        {
          "output_type": "stream",
          "name": "stdout",
          "text": [
            "0\n",
            "1\n",
            "2\n",
            "3\n"
          ]
        }
      ]
    },
    {
      "cell_type": "code",
      "source": [
        "# n Dimensuional Array\n",
        "import numpy as np\n",
        "arr = np.array([1, 2, 3, 4,5,6,8], ndmin=2)\n",
        "np.array\n",
        "print(arr)\n",
        "print(arr.shape)\n",
        "print('number of dimensions :', arr.ndim) "
      ],
      "metadata": {
        "colab": {
          "base_uri": "https://localhost:8080/"
        },
        "id": "5xfOPK6fISeZ",
        "outputId": "4c654128-5a2f-4371-ec03-a11d7e1cf022"
      },
      "execution_count": null,
      "outputs": [
        {
          "output_type": "stream",
          "name": "stdout",
          "text": [
            "[[1 2 3 4 5 6 8]]\n",
            "(1, 7)\n",
            "number of dimensions : 2\n"
          ]
        }
      ]
    },
    {
      "cell_type": "code",
      "source": [
        "# Array Indexing\n",
        "import numpy as np\n",
        "arr = np.array([1, 2, 3, 4])\n",
        "\n",
        "print(arr[0]) \n",
        "print(arr[-1])\n",
        "print(arr[-2])\n",
        "print(arr[2])"
      ],
      "metadata": {
        "id": "OgW61YFQJ5za"
      },
      "execution_count": null,
      "outputs": []
    },
    {
      "cell_type": "code",
      "source": [
        "# Array Slicng\n",
        "import numpy as np\n",
        "arr = np.array([1, 2, 3, 4, 5, 6, 7,8,9,10])\n",
        "\n",
        "print(arr[1:5]) \n",
        "print(arr[:3])\n",
        "print(arr[2:])\n",
        "print(arr[-3:])\n",
        "print(arr[::2])"
      ],
      "metadata": {
        "colab": {
          "base_uri": "https://localhost:8080/"
        },
        "id": "Wq3U51VwKkI0",
        "outputId": "9e72e9cd-05de-4240-fd60-703052ea9a53"
      },
      "execution_count": null,
      "outputs": [
        {
          "output_type": "stream",
          "name": "stdout",
          "text": [
            "[2 3 4 5]\n",
            "[1 2 3]\n",
            "[ 3  4  5  6  7  8  9 10]\n",
            "[ 8  9 10]\n",
            "[1 3 5 7 9]\n"
          ]
        }
      ]
    },
    {
      "cell_type": "code",
      "source": [
        "# Slicing in 2 dimesnional Array\n",
        "import numpy as np\n",
        "arr = np.array([[1, 2, 3], [4, 5, 6]])\n",
        "#print(arr) \n",
        "#print(arr.shape)\n",
        "print(arr[1:2,1:2])"
      ],
      "metadata": {
        "colab": {
          "base_uri": "https://localhost:8080/"
        },
        "id": "nYbt_XyIN81V",
        "outputId": "7d56a6bd-79c4-45f6-e270-996dddd481a7"
      },
      "execution_count": null,
      "outputs": [
        {
          "output_type": "stream",
          "name": "stdout",
          "text": [
            "[[5]]\n"
          ]
        }
      ]
    },
    {
      "cell_type": "code",
      "source": [
        "# Copy the array\n",
        "import numpy as np\n",
        "arr = np.array([1, 2, 3, 4, 5])\n",
        "a = arr\n",
        "# print(arr)\n",
        "# print(a)\n",
        "a[0] = 11\n",
        "print(a)\n",
        "print(arr)\n"
      ],
      "metadata": {
        "id": "b5QhYcMnL0bF"
      },
      "execution_count": null,
      "outputs": []
    },
    {
      "cell_type": "code",
      "source": [
        "import numpy as np\n",
        "arr = np.array([1, 2, 3, 4, 5])\n",
        "a = arr.copy()\n",
        "print(arr)\n",
        "print(a)\n",
        "a[0] = 11\n",
        "print(a)\n",
        "print(arr)"
      ],
      "metadata": {
        "colab": {
          "base_uri": "https://localhost:8080/"
        },
        "id": "-IRhJRQlMIr_",
        "outputId": "06c1bf56-d212-4bf1-cbb8-f004ba81e6f9"
      },
      "execution_count": null,
      "outputs": [
        {
          "output_type": "stream",
          "name": "stdout",
          "text": [
            "[11  2  3  4  5]\n",
            "[1 2 3 4 5]\n"
          ]
        }
      ]
    },
    {
      "cell_type": "code",
      "source": [
        "# Reshape Array\n",
        "import numpy as np\n",
        "arr = np.array([1, 2, 3, 4, 5, 6, 7, 8, 9, 10, 11,12])\n",
        "newarr = arr.reshape(4,3)\n",
        "print(newarr) "
      ],
      "metadata": {
        "colab": {
          "base_uri": "https://localhost:8080/"
        },
        "id": "s058FWabNjs9",
        "outputId": "fbd68841-70f1-42cf-a184-130f572b0d35"
      },
      "execution_count": null,
      "outputs": [
        {
          "output_type": "stream",
          "name": "stdout",
          "text": [
            "[[ 1  2  3]\n",
            " [ 4  5  6]\n",
            " [ 7  8  9]\n",
            " [10 11 12]]\n"
          ]
        }
      ]
    },
    {
      "cell_type": "code",
      "source": [
        "# Reshape Array\n",
        "import numpy as np\n",
        "arr = np.array([1, 2, 3, 4, 5, 6, 7, 8, 9, 10, 11, 12])\n",
        "newarr = arr.reshape(4, 3)\n",
        "print(newarr) "
      ],
      "metadata": {
        "id": "G-G6P_RiNzuY"
      },
      "execution_count": null,
      "outputs": []
    },
    {
      "cell_type": "code",
      "source": [
        "#Iterating a Array\n",
        "import numpy as np\n",
        "arr = np.array([1, 2, 3,4,5])\n",
        "for x in arr:\n",
        "  print(x) "
      ],
      "metadata": {
        "id": "79-2DtkgQcVN"
      },
      "execution_count": null,
      "outputs": []
    },
    {
      "cell_type": "code",
      "source": [
        "#Iterating a 2D Array\n",
        "import numpy as np\n",
        "arr = np.array([[1, 2, 3], [4, 5, 6]])\n",
        "for x in arr:\n",
        "  print(x) "
      ],
      "metadata": {
        "colab": {
          "base_uri": "https://localhost:8080/"
        },
        "id": "iPhJ6AoeQnV1",
        "outputId": "c3c449cd-9f13-431d-d652-17900643f634"
      },
      "execution_count": null,
      "outputs": [
        {
          "output_type": "stream",
          "name": "stdout",
          "text": [
            "[1 2 3]\n",
            "[4 5 6]\n"
          ]
        }
      ]
    },
    {
      "cell_type": "code",
      "source": [
        "# Join two arrays\n",
        "import numpy as np\n",
        "arr1 = np.array([1, 2, 3])\n",
        "arr2 = np.array([4, 5, 6])\n",
        "arr = np.concatenate((arr1, arr2))\n",
        "print(arr)\n",
        "# Aritmatic Operation\n",
        "print(arr1 + arr2) \n",
        "print(arr1 - arr2)\n",
        "print(arr1 * arr2)\n",
        "print(arr1 / arr2)\n",
        "print(arr1 * 2)\n",
        "print(arr1 - 2)"
      ],
      "metadata": {
        "id": "K7HxQiPlRDqf",
        "colab": {
          "base_uri": "https://localhost:8080/"
        },
        "outputId": "e9cdf733-dd0e-4fd9-8a2b-2aaec77a964c"
      },
      "execution_count": 4,
      "outputs": [
        {
          "output_type": "stream",
          "name": "stdout",
          "text": [
            "[1 2 3 4 5 6]\n",
            "[5 7 9]\n",
            "[-3 -3 -3]\n",
            "[ 4 10 18]\n",
            "[0.25 0.4  0.5 ]\n",
            "[2 4 6]\n",
            "[-1  0  1]\n"
          ]
        }
      ]
    },
    {
      "cell_type": "code",
      "source": [
        "#Split the array in 2 parts:\n",
        "import numpy as np\n",
        "arr = np.array([1, 2, 3, 4, 5, 6])\n",
        "newarr = np.array_split(arr, 5)\n",
        "print(newarr) "
      ],
      "metadata": {
        "colab": {
          "base_uri": "https://localhost:8080/"
        },
        "id": "BN3Ot7aYRPPk",
        "outputId": "c82c5f12-21a5-4f12-f512-d596d43f01bb"
      },
      "execution_count": null,
      "outputs": [
        {
          "output_type": "stream",
          "name": "stdout",
          "text": [
            "[array([1, 2]), array([3]), array([4]), array([5]), array([6])]\n"
          ]
        }
      ]
    },
    {
      "cell_type": "code",
      "source": [
        "# Sort the array\n",
        "import numpy as np\n",
        "arr = np.array([3, 2, 0, 1])\n",
        "print(np.sort(arr))\n",
        "print(arr)\n",
        "arr[::-1].sort()\n",
        "print(arr)\n",
        "print(arr[0])"
      ],
      "metadata": {
        "colab": {
          "base_uri": "https://localhost:8080/"
        },
        "id": "wcaWyJ4FRl_X",
        "outputId": "e3125f84-8c2f-47b5-ca50-ba7a434b1abe"
      },
      "execution_count": null,
      "outputs": [
        {
          "output_type": "stream",
          "name": "stdout",
          "text": [
            "[0 1 2 3]\n",
            "[3 2 0 1]\n",
            "[3 2 1 0]\n",
            "3\n"
          ]
        }
      ]
    },
    {
      "cell_type": "code",
      "source": [
        "arr = np.array([3, 2, 0, 1])\n",
        "for x in (len(arr)):\n",
        "  l = arr[x]\n",
        "  if arr[x+1] > arr[x]:\n",
        "    l = arr[x+1]\n",
        "print(l) \n"
      ],
      "metadata": {
        "id": "rfQjACH20NE3"
      },
      "execution_count": null,
      "outputs": []
    },
    {
      "cell_type": "code",
      "source": [
        "#Arange Function\n",
        "a1 = np.arange(5,15,2)\n",
        "print(a1)"
      ],
      "metadata": {
        "colab": {
          "base_uri": "https://localhost:8080/"
        },
        "id": "NtEd_0goP8Eo",
        "outputId": "5a9dafd8-e024-41b6-a8a6-f6cba5ff75a5"
      },
      "execution_count": null,
      "outputs": [
        {
          "output_type": "stream",
          "name": "stdout",
          "text": [
            "[ 5  7  9 11 13]\n"
          ]
        }
      ]
    },
    {
      "cell_type": "code",
      "source": [
        "#Arange Function\n",
        "a1 = np.arange(1,15,2)\n",
        "print(a1)\n",
        "arr1=np.arange(0,10)"
      ],
      "metadata": {
        "colab": {
          "base_uri": "https://localhost:8080/"
        },
        "id": "rNr9mWuWQQrW",
        "outputId": "038c700b-a839-4f8b-fe0f-601a4b204cb4"
      },
      "execution_count": null,
      "outputs": [
        {
          "output_type": "stream",
          "name": "stdout",
          "text": [
            "[ 1  3  5  7  9 11 13]\n"
          ]
        }
      ]
    },
    {
      "cell_type": "code",
      "source": [
        "# Line Space function\n",
        "import numpy as np\n",
        "a2 = np.linspace(1,10,5)\n",
        "print(a2)\n",
        "\n",
        "# restep set to True\n",
        "print(np.linspace(2.0, 3.0, num=10))\n"
      ],
      "metadata": {
        "id": "iSKkso0qSAhq"
      },
      "execution_count": null,
      "outputs": []
    },
    {
      "cell_type": "code",
      "source": [
        "# rand function (0 to 1)\n",
        "print(np.random.rand(3,5))\n",
        "print(np.random.rand(4))\n",
        "print(np.random.rand(5))"
      ],
      "metadata": {
        "id": "qUQYxzvFSV0_",
        "colab": {
          "base_uri": "https://localhost:8080/"
        },
        "outputId": "a81aeb38-1d18-4e5c-9a9f-950a495348dc"
      },
      "execution_count": 10,
      "outputs": [
        {
          "output_type": "stream",
          "name": "stdout",
          "text": [
            "[[0.88639489 0.19294337 0.89366461 0.83766089 0.21617963]\n",
            " [0.38652248 0.39810121 0.62723545 0.68271207 0.14930777]\n",
            " [0.63438871 0.59683921 0.07495942 0.90655631 0.31748099]]\n",
            "[0.41917669 0.9766601  0.07912487 0.90725475]\n",
            "[0.25609538 0.71749171 0.03259733 0.07643076 0.36239905]\n"
          ]
        }
      ]
    },
    {
      "cell_type": "code",
      "source": [
        "# rand function\n",
        "np.random.randint(1,10,6)"
      ],
      "metadata": {
        "colab": {
          "base_uri": "https://localhost:8080/"
        },
        "id": "Tct6oSBvS5j1",
        "outputId": "52f3e016-f153-4a04-976a-fbac8bc90773"
      },
      "execution_count": null,
      "outputs": [
        {
          "output_type": "execute_result",
          "data": {
            "text/plain": [
              "array([3, 1, 2, 3, 2, 6])"
            ]
          },
          "metadata": {},
          "execution_count": 98
        }
      ]
    },
    {
      "cell_type": "code",
      "source": [
        "# rand function\n",
        "arr_ex=np.random.randn(2,3)\n",
        "print(arr_ex)"
      ],
      "metadata": {
        "colab": {
          "base_uri": "https://localhost:8080/"
        },
        "id": "-0avq7zxTZhp",
        "outputId": "6990aff4-1972-49ee-c1bd-315ba8e2f3f3"
      },
      "execution_count": null,
      "outputs": [
        {
          "output_type": "stream",
          "name": "stdout",
          "text": [
            "[[ 1.90248369 -0.39715936  0.09774795]\n",
            " [-1.61905595  0.57679565 -0.0458513 ]]\n"
          ]
        }
      ]
    },
    {
      "cell_type": "code",
      "source": [
        "# random_sample (0.0, to 1.0)\n",
        "import numpy as np\n",
        "val = np.random.random_sample()\n",
        "print (\"Output random float value : \", val)"
      ],
      "metadata": {
        "colab": {
          "base_uri": "https://localhost:8080/"
        },
        "id": "Kx97jwHNW7iR",
        "outputId": "9285cb42-9edf-48a7-ef93-28028972a267"
      },
      "execution_count": null,
      "outputs": [
        {
          "output_type": "stream",
          "name": "stdout",
          "text": [
            "Output random float value :  0.5075450560080207\n"
          ]
        }
      ]
    },
    {
      "cell_type": "code",
      "source": [
        "# Create array of zeros and ones\n",
        "#print(np.zeros(5))\n",
        "#print(np.zeros(5,dtype=int))\n",
        "#print(np.zeros((2,5),dtype=int))\n",
        "print(np.zeros((2,3,4),dtype=int))"
      ],
      "metadata": {
        "id": "r3hPE8hWTZ6w"
      },
      "execution_count": null,
      "outputs": []
    },
    {
      "cell_type": "code",
      "source": [
        "# Create array ones\n",
        "#print(np.ones(5))\n",
        "#print(np.ones(5,dtype=int))\n",
        "#print(np.ones((2,5),dtype=int))\n",
        "print(np.ones((2,3,4),dtype=int))"
      ],
      "metadata": {
        "id": "pwgeTrVwUBvR"
      },
      "execution_count": null,
      "outputs": []
    },
    {
      "cell_type": "code",
      "source": [
        "# other function\n",
        "arr = np.array([3, 2, 5, 1])\n",
        "arr1 = np.array([3, 1, 5, 1])\n",
        "np.sqrt(arr)\n",
        "np.maximum(arr,arr1)\n"
      ],
      "metadata": {
        "colab": {
          "base_uri": "https://localhost:8080/"
        },
        "id": "mWBKlyJn6Lg-",
        "outputId": "81365a0d-4602-408c-d50d-bb7cd81f473c"
      },
      "execution_count": null,
      "outputs": [
        {
          "output_type": "execute_result",
          "data": {
            "text/plain": [
              "array([3, 2, 5, 1])"
            ]
          },
          "metadata": {},
          "execution_count": 119
        }
      ]
    },
    {
      "cell_type": "code",
      "source": [
        "# Identity Matrix\n",
        "import numpy as np\n",
        "i = np.eye(4,4)\n",
        "print(i)\n",
        "print(np.eye(3,3))\n"
      ],
      "metadata": {
        "id": "ak8GH8hNZETG"
      },
      "execution_count": null,
      "outputs": []
    },
    {
      "cell_type": "code",
      "source": [
        "#Horizontal Stacking of Numpy Arrays\n",
        "a1 = np.array([[1,2,3],\n",
        "               [4,5,6]])\n",
        "\n",
        "a2 = np.array([[7,8,9],\n",
        "               [10,11,12]])\n",
        "\n",
        "o = np.hstack((a1, a2))\n",
        "\n",
        "print(o)"
      ],
      "metadata": {
        "id": "ZgqrUbleaWOt"
      },
      "execution_count": null,
      "outputs": []
    },
    {
      "cell_type": "code",
      "source": [
        "#Vertically Stacking of Numpy Arrays\n",
        "a1 = np.array([[1,2],\n",
        "               [3,4],\n",
        "               [5,6]])\n",
        "\n",
        "a2 = np.array([[7,8],\n",
        "               [9,10],\n",
        "               [10,11]])\n",
        "o = np.vstack((a1, a2))\n",
        "print(o)"
      ],
      "metadata": {
        "id": "XSkoZtnEacpP"
      },
      "execution_count": null,
      "outputs": []
    },
    {
      "cell_type": "code",
      "source": [
        "#Getting the positions (indexes) where elements of 2 numpy arrays match\n",
        "a = np.array([1,2,3,4,5])\n",
        "b = np.array([1,3,2,4,5])\n",
        "print(np.where(a == b))"
      ],
      "metadata": {
        "id": "JvShxwN7azgt"
      },
      "execution_count": null,
      "outputs": []
    },
    {
      "cell_type": "code",
      "source": [
        "#Matrix Generation with one particular value\n",
        "o = np.full((3, 3), 7)\n",
        "print(o)"
      ],
      "metadata": {
        "id": "Kz0FX0IBbHNR"
      },
      "execution_count": null,
      "outputs": []
    },
    {
      "cell_type": "code",
      "source": [
        "#Matrix Transpose\n",
        "a = np.array([[1,2,3],\n",
        "              [4,5,6],\n",
        "              [7,8,9]])\n",
        "\n",
        "a_transpose = a.T\n",
        "\n",
        "print(a_transpose)"
      ],
      "metadata": {
        "id": "_JP9AbpFbcpi"
      },
      "execution_count": null,
      "outputs": []
    },
    {
      "cell_type": "code",
      "source": [
        "# rand function\n",
        "print(np.random.randint(1,10,5))\n",
        "print(np.random.randint(1,10, size=(3,3)))"
      ],
      "metadata": {
        "id": "t_ipkokpdZZt"
      },
      "execution_count": null,
      "outputs": []
    }
  ]
}